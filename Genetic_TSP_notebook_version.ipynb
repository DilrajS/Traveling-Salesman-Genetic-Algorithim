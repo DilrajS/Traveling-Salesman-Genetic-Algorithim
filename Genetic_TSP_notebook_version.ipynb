{
  "nbformat": 4,
  "nbformat_minor": 0,
  "metadata": {
    "colab": {
      "name": "Genetic_TSP_notebook_version.ipynb",
      "provenance": []
    },
    "kernelspec": {
      "name": "python3",
      "display_name": "Python 3"
    },
    "language_info": {
      "name": "python"
    }
  },
  "cells": [
    {
      "cell_type": "markdown",
      "metadata": {
        "id": "AuAMI_mNJZvK"
      },
      "source": [
        "# Genetic Algorithm"
      ]
    },
    {
      "cell_type": "code",
      "metadata": {
        "id": "Mi6G_wNHJdDz"
      },
      "source": [
        "import numpy as np, random, operator, pandas as pd, matplotlib.pyplot as plt"
      ],
      "execution_count": 1,
      "outputs": []
    },
    {
      "cell_type": "code",
      "metadata": {
        "id": "GvzWLU8SJfpl"
      },
      "source": [
        "class City:\n",
        "    def __init__(self, y, x):\n",
        "        self.x = x\n",
        "        self.y = y\n",
        "    \n",
        "    def distance(self, city):\n",
        "        xDis = abs(self.x - city.x)\n",
        "        yDis = abs(self.y - city.y)\n",
        "        distance = np.sqrt((xDis ** 2) + (yDis ** 2))\n",
        "        return distance\n",
        "    \n",
        "    def __repr__(self):\n",
        "        return \"(\" + str(self.x) + \",\" + str(self.y) + \")\"\n"
      ],
      "execution_count": 2,
      "outputs": []
    },
    {
      "cell_type": "code",
      "metadata": {
        "id": "Tylb-yNsJjVC"
      },
      "source": [
        "class Fitness:\n",
        "    def __init__(self, route):\n",
        "        self.route = route\n",
        "        self.distance = 0\n",
        "        self.fitness= 0.0\n",
        "    \n",
        "    def routeDistance(self):\n",
        "        if self.distance ==0:\n",
        "            pathDistance = 0\n",
        "            for i in range(0, len(self.route)):\n",
        "                fromCity = self.route[i]\n",
        "                toCity = None\n",
        "                if i + 1 < len(self.route):\n",
        "                    toCity = self.route[i + 1]\n",
        "                else:\n",
        "                    toCity = self.route[0]\n",
        "                pathDistance += fromCity.distance(toCity)\n",
        "            self.distance = pathDistance\n",
        "        return self.distance\n",
        "    \n",
        "    def routeFitness(self):\n",
        "        if self.fitness == 0:\n",
        "            self.fitness = 1 / float(self.routeDistance())\n",
        "        return self.fitness\n"
      ],
      "execution_count": 3,
      "outputs": []
    },
    {
      "cell_type": "code",
      "metadata": {
        "id": "s6woqm3bJmKG"
      },
      "source": [
        "def createRoute(cityList):\n",
        "    route = random.sample(cityList, len(cityList))\n",
        "    return route"
      ],
      "execution_count": 4,
      "outputs": []
    },
    {
      "cell_type": "code",
      "metadata": {
        "id": "LQ1rQOSgJoEc"
      },
      "source": [
        "def initialPopulation(popSize, cityList):\n",
        "    population = []\n",
        "\n",
        "    for i in range(0, popSize):\n",
        "        population.append(createRoute(cityList))\n",
        "    return population"
      ],
      "execution_count": 5,
      "outputs": []
    },
    {
      "cell_type": "code",
      "metadata": {
        "id": "WXtqJkCLJp6P"
      },
      "source": [
        "def rankRoutes(population):\n",
        "    \"\"\"\n",
        "    This function sorts the given population in decreasing order of the fitness score.\n",
        "    \"\"\"\n",
        "    fitnessResults = {}\n",
        "    for i in range(0,len(population)):\n",
        "        fitnessResults[i] = Fitness(population[i]).routeFitness()\n",
        "    return sorted(fitnessResults.items(), key = operator.itemgetter(1), reverse = True)\n",
        "\n"
      ],
      "execution_count": 6,
      "outputs": []
    },
    {
      "cell_type": "code",
      "metadata": {
        "id": "rdL6J8hXJscA"
      },
      "source": [
        "def selection(popRanked, eliteSize):\n",
        "    \"\"\"\n",
        "    This function takes in a population sorted in decreasing order of fitness score, and chooses a mating pool from it.\n",
        "    It returns a list of indices of the chosen mating pool in the given population.\n",
        "    \"\"\"\n",
        "    selectionResults = []\n",
        "    df = pd.DataFrame(np.array(popRanked), columns=[\"Index\",\"Fitness\"])\n",
        "    df['cum_sum'] = df.Fitness.cumsum()\n",
        "    df['cum_perc'] = 100*df.cum_sum/df.Fitness.sum()\n",
        "    \n",
        "    for i in range(0, eliteSize):\n",
        "        selectionResults.append(popRanked[i][0])\n",
        "    for i in range(0, len(popRanked) - eliteSize):\n",
        "        pick = 100*random.random()\n",
        "        for i in range(0, len(popRanked)):\n",
        "            if pick <= df.iat[i,3]:\n",
        "                selectionResults.append(popRanked[i][0])\n",
        "                break\n",
        "    return selectionResults\n"
      ],
      "execution_count": 7,
      "outputs": []
    },
    {
      "cell_type": "code",
      "metadata": {
        "id": "GT8VjJthJuz3"
      },
      "source": [
        "def matingPool(population, selectionResults):\n",
        "    \"\"\"\n",
        "    This function takes in a population and returns the chosen mating pool which is a subset of the population.\n",
        "    \"\"\"\n",
        "    matingpool = []\n",
        "    for i in range(0, len(selectionResults)):\n",
        "        index = selectionResults[i]\n",
        "        matingpool.append(population[index])\n",
        "    return matingpool\n"
      ],
      "execution_count": 8,
      "outputs": []
    },
    {
      "cell_type": "code",
      "metadata": {
        "id": "R365zWVfJw6o"
      },
      "source": [
        "def breed(parent1, parent2):\n",
        "    \"\"\"\n",
        "    This function should breed both parents (routes) and return a child route according to the ordered crossover algorithm  \n",
        "    mentioned above. Please fill in the code to do so.\n",
        "    \"\"\"\n",
        "    # Declaring child \n",
        "    child = [] \n",
        "    \n",
        "    # Storing parent info\n",
        "    parentChild1 = [] \n",
        "    parentChild2 = []\n",
        "    \n",
        "    # gene 1 & 2\n",
        "    gene1 = int(random.random() * len(parent1))\n",
        "    gene2 = int(random.random() * len(parent2))\n",
        "    \n",
        "    # Getting the max and min\n",
        "    startingGene = min(gene1, gene2)\n",
        "    endingGene = max(gene1, gene2)\n",
        "    \n",
        "    # Gets random values\n",
        "    for i in range(startingGene, endingGene):\n",
        "        parentChild1.append(parent1[i])\n",
        "        \n",
        "    # initilize parentChild2 with values it did not get from parent1\n",
        "    parentChild2 = [item for item in parent2 if item not in parentChild1]\n",
        "    \n",
        "    # initilizing child\n",
        "    child = parentChild1 + parentChild2\n",
        "    \n",
        "    # returns child\n",
        "    return child\n"
      ],
      "execution_count": 9,
      "outputs": []
    },
    {
      "cell_type": "code",
      "metadata": {
        "id": "eeTNwB2jJzCo"
      },
      "source": [
        "def breedPopulation(matingpool, eliteSize):\n",
        "    \"\"\"\n",
        "    This function should return the offspring population from the current population using the breed function. It should \n",
        "    retain the eliteSize best routes from the current population. Then it should use the breed function to mate\n",
        "    members of the population, to fill out the rest of the next generation. You may decide how to choose mates for individuals.\n",
        "    \"\"\"\n",
        "    \n",
        "    children = []\n",
        "    size = len(matingpool) - eliteSize\n",
        "    pool = random.sample(matingpool, len(matingpool))\n",
        "\n",
        "    for i in range(0,eliteSize):\n",
        "        children.append(matingpool[i])\n",
        "    # mate members of population\n",
        "    for i in range(0, size):\n",
        "        child = breed(pool[i], pool[len(matingpool)-i-1])\n",
        "        children.append(child)\n",
        "    \n",
        "    # Returns children population derived from current population using breed function \n",
        "    return children\n"
      ],
      "execution_count": 10,
      "outputs": []
    },
    {
      "cell_type": "code",
      "metadata": {
        "id": "L7rQVwBuJ1Ec"
      },
      "source": [
        "def mutate(individual, mutationRate):\n",
        "    \"\"\"\n",
        "    This function should take in an individual (route) and return a mutated individual. Assume mutationRate is a probability\n",
        "    between 0 and 1. Use the swap mutation described above to mutate the individual according to the mutationRate. Iterate \n",
        "    through each of the cities and swap it with another city according to the given probability.\n",
        "    \"\"\"\n",
        "    #takes in a route and returns mutated version \n",
        "    for swapped in range(len(individual)):\n",
        "        if(random.random() < mutationRate):\n",
        "            swapPlace = int(random.random() * len(individual))\n",
        "            \n",
        "            location1 = individual[swapped]\n",
        "            location2 = individual[swapPlace]\n",
        "            \n",
        "            individual[swapped] = location2\n",
        "            individual[swapPlace] = location1   \n",
        "    \n",
        "    # returns mutated individual\n",
        "    return individual"
      ],
      "execution_count": 11,
      "outputs": []
    },
    {
      "cell_type": "code",
      "metadata": {
        "id": "yPp8lw6_J2r8"
      },
      "source": [
        "def mutatePopulation(population, mutationRate):\n",
        "    \"\"\"\n",
        "    This function should use the above mutate function to mutate each member of the population. Simply iterate over the \n",
        "    population and mutate each individual using the mutationRate.\n",
        "    \"\"\"\n",
        "    mutatedPop = []\n",
        "    # for loop for to itterate through each individual, mutationg using the mutationRate \n",
        "    for i in range(0, len(population)):\n",
        "        mutatedi = mutate(population[i], mutationRate)\n",
        "        mutatedPop.append(mutatedi)  \n",
        "   # returns mutatedPop     \n",
        "    return mutatedPop\n"
      ],
      "execution_count": 12,
      "outputs": []
    },
    {
      "cell_type": "code",
      "metadata": {
        "id": "sGIeQYSfJ45U"
      },
      "source": [
        "def nextGeneration(currentGen, eliteSize, mutationRate):\n",
        "    \"\"\"\n",
        "    This function takes in the current generation, eliteSize and mutationRate and should return the next generation.\n",
        "    Please use all the above defined functions to do so, some hints are in the above paragraph.\n",
        "    \"\"\" \n",
        "    # rank routs\n",
        "    popRanked = rankRoutes(currentGen)\n",
        "    # select potential parents \n",
        "    selectionResults = selection(popRanked, eliteSize)\n",
        "    # creating matingPool \n",
        "    matingpool = matingPool(currentGen, selectionResults)\n",
        "    # creating children\n",
        "    children = breedPopulation(matingpool, eliteSize)\n",
        "    #applying the mutation \n",
        "    nextGeneration = mutatePopulation(children, mutationRate) \n",
        "    #returns nextGeneration\n",
        "    return nextGeneration"
      ],
      "execution_count": 13,
      "outputs": []
    },
    {
      "cell_type": "code",
      "metadata": {
        "id": "BPtO83OdJ6qF"
      },
      "source": [
        "def geneticAlgorithm(population, popSize, eliteSize, mutationRate, generations):\n",
        "    \"\"\"\n",
        "    This function creates an initial population, then runs the genetic algorithm according to the given parameters. \n",
        "    \"\"\"\n",
        "    # declare/initilize variables\n",
        "    itlPop = initialPopulation(popSize, population)\n",
        "    print(\"Initial distance: \" + str(1 / rankRoutes(itlPop)[0][1]))\n",
        "    # loop through diff generation \n",
        "    for i in range(0, generations):\n",
        "        itlPop = nextGeneration(itlPop, eliteSize, mutationRate)\n",
        "    \n",
        "    print(\"Final distance: \" + str(1 / rankRoutes(itlPop)[0][1]))\n",
        "    bestRteIdx = rankRoutes(itlPop)[0][0]\n",
        "    # initilize return var\n",
        "    bestRoute = itlPop[bestRteIdx]\n",
        "    \n",
        "    # returns bestRoute\n",
        "    return bestRoute"
      ],
      "execution_count": 14,
      "outputs": []
    },
    {
      "cell_type": "code",
      "metadata": {
        "id": "J2d16RlqJ9R5"
      },
      "source": [
        "cityList = []\n",
        "NewYork= City( int(40.71 * 100), int( -74.00 * 100)) \n",
        "LA= City(3405,-11824) \n",
        "Chicago=City(4187,-8762)\n",
        "Houston=City(2976,-9536)\n",
        "Philly=City(3995,-7516)\n",
        "cityList.append(NewYork)\n",
        "cityList.append(LA)\n",
        "cityList.append(Chicago)\n",
        "cityList.append(Houston)\n",
        "cityList.append(Philly)\n"
      ],
      "execution_count": 15,
      "outputs": []
    },
    {
      "cell_type": "code",
      "metadata": {
        "colab": {
          "base_uri": "https://localhost:8080/"
        },
        "id": "bwxGPY_jKGZK",
        "outputId": "4fc4283d-86f9-427b-dfa0-70ccba1022bf"
      },
      "source": [
        "geneticAlgorithm(population=cityList, popSize=100, eliteSize=5, mutationRate=0.01, generations=500)\n"
      ],
      "execution_count": 16,
      "outputs": [
        {
          "output_type": "stream",
          "text": [
            "Initial distance: 9256.22933537916\n",
            "Final distance: 9256.22933537916\n"
          ],
          "name": "stdout"
        },
        {
          "output_type": "execute_result",
          "data": {
            "text/plain": [
              "[(-7400,4071), (-8762,4187), (-11824,3405), (-9536,2976), (-7516,3995)]"
            ]
          },
          "metadata": {
            "tags": []
          },
          "execution_count": 16
        }
      ]
    },
    {
      "cell_type": "code",
      "metadata": {
        "colab": {
          "base_uri": "https://localhost:8080/",
          "height": 265
        },
        "id": "wUpw_E1uKGy3",
        "outputId": "b050bd7a-706f-46ee-d0d2-4d568389d84f"
      },
      "source": [
        "# Plotting\n",
        "fig, ax1 = plt.subplots(ncols=1)\n",
        "y=[4071,4187,3405,2976,3995]\n",
        "x=[-7400,-8762,-11824,-9536,-7516]\n",
        "n=['New York','Chicago',\"LA\",\"Houston\",\"Philly\"]\n",
        "ax1.plot(x, y, marker=\"o\", markerfacecolor=\"r\")\n",
        "for i, txt in enumerate(n):\n",
        "    ax1.annotate(txt, (x[i], y[i]))\n"
      ],
      "execution_count": 17,
      "outputs": [
        {
          "output_type": "display_data",
          "data": {
            "image/png": "[encoded data removed]",
            "text/plain": [
              "<Figure size 432x288 with 1 Axes>"
            ]
          },
          "metadata": {
            "tags": [],
            "needs_background": "light"
          }
        }
      ]
    },
    {
      "cell_type": "code",
      "metadata": {
        "id": "NPiuLRFGKLmg"
      },
      "source": [
        "cityList = []\n",
        "NewYork= City( int(40.71 * 100), int( -74.00 * 100)) \n",
        "LA= City(3405,-11824) \n",
        "Chicago=City(4187,-8762)\n",
        "Houston=City(2976,-9536)\n",
        "Philly=City(3995,-7516)\n",
        "Phoenix=City(3344,-11207)\n",
        "SanAntonio=City(2942,-9849)\n",
        "SanDiego=City(3271,-11716)\n",
        "Dallas=City(3277,-9679)\n",
        "SanJose=City(3733,-12188)\n",
        "Austin=City(3026,-9774)\n",
        "Indianap=City(3976,-8615)\n",
        "Jacksonville=City(3033,-8165)\n",
        "SanFrancisco=City(3777,-12241)\n",
        "Columbus=City(3996,-8299)\n",
        "Charlotte=City(3522,-8084)\n",
        "FortWorth=City(3275,-9733)\n",
        "Detroit=City(4233,-8304)\n",
        "ElPaso=City(3177,-10644)\n",
        "Memphis=City(3514,-9004)\n",
        "\n",
        "cityList.append(NewYork)\n",
        "cityList.append(LA)\n",
        "cityList.append(Chicago)\n",
        "cityList.append(Houston)\n",
        "cityList.append(Philly)\n",
        "cityList.append(Phoenix)\n",
        "cityList.append(SanAntonio)\n",
        "cityList.append(SanDiego)\n",
        "cityList.append(Dallas)\n",
        "cityList.append(SanJose)\n",
        "cityList.append(Austin)\n",
        "cityList.append(Indianap)\n",
        "cityList.append(Jacksonville)\n",
        "cityList.append(SanFrancisco)\n",
        "cityList.append(Columbus)\n",
        "cityList.append(Charlotte)\n",
        "cityList.append(FortWorth)\n",
        "cityList.append(Detroit)\n",
        "cityList.append(ElPaso)\n",
        "cityList.append(Memphis)"
      ],
      "execution_count": 18,
      "outputs": []
    },
    {
      "cell_type": "code",
      "metadata": {
        "colab": {
          "base_uri": "https://localhost:8080/"
        },
        "id": "oeioUI4YKNRe",
        "outputId": "cbfe2a18-3623-4b38-915d-2a44374df057"
      },
      "source": [
        "# Code to run GA\n",
        "geneticAlgorithm(population=cityList, popSize=100, eliteSize=5, mutationRate=0.01, generations=500) \n",
        "\n"
      ],
      "execution_count": 19,
      "outputs": [
        {
          "output_type": "stream",
          "text": [
            "Initial distance: 27563.288009700773\n",
            "Final distance: 11593.874222707302\n"
          ],
          "name": "stdout"
        },
        {
          "output_type": "execute_result",
          "data": {
            "text/plain": [
              "[(-9536,2976),\n",
              " (-8165,3033),\n",
              " (-8084,3522),\n",
              " (-7400,4071),\n",
              " (-7516,3995),\n",
              " (-8304,4233),\n",
              " (-8299,3996),\n",
              " (-8615,3976),\n",
              " (-8762,4187),\n",
              " (-9004,3514),\n",
              " (-9679,3277),\n",
              " (-9733,3275),\n",
              " (-11207,3344),\n",
              " (-12188,3733),\n",
              " (-12241,3777),\n",
              " (-11824,3405),\n",
              " (-11716,3271),\n",
              " (-10644,3177),\n",
              " (-9849,2942),\n",
              " (-9774,3026)]"
            ]
          },
          "metadata": {
            "tags": []
          },
          "execution_count": 19
        }
      ]
    },
    {
      "cell_type": "code",
      "metadata": {
        "colab": {
          "base_uri": "https://localhost:8080/",
          "height": 265
        },
        "id": "rIqy_2u1KOn1",
        "outputId": "aebdcca1-e0bb-478e-e323-3337c6e68eaa"
      },
      "source": [
        "fig, ax1 = plt.subplots(ncols=1)\n",
        "y=[3976,4187,3514,2976,3026,2942,3177,3344,3777,3733,3405,3271,3275,3277,3033,3522,3995,4071,4233,3996]\n",
        "x=[-8615,-8762,-9004,-9536,-9774,-9849,-10644,-11207,-12241,-12188,-11824,-11716,-9733,-9679,-8165,-8084,-7516,-7400,-8304,-8299]\n",
        "n=[\"Indianap\",\"Chicago\",\"Memphis\",\"Houston\",\"Austin\",\"San Antonio\",\"El Paso\",\"Phoenix\",\"San Francisco\",\"San Jose\",\"LA\",\"San Diego\",\"Fort Worth\",\"Dallas\",\"Jacksonville\",\"Charlotte\",\"Philly\",\"New York\",\"Detroit\",\"Columbus\"]\n",
        "ax1.plot(x, y, marker=\"o\", markerfacecolor=\"r\")\n",
        "for i, txt in enumerate(n):\n",
        "    ax1.annotate(txt, (x[i], y[i])) \n"
      ],
      "execution_count": 20,
      "outputs": [
        {
          "output_type": "display_data",
          "data": {
            "image/png": "[encoded data removed]",
            "text/plain": [
              "<Figure size 432x288 with 1 Axes>"
            ]
          },
          "metadata": {
            "tags": [],
            "needs_background": "light"
          }
        }
      ]
    },
    {
      "cell_type": "code",
      "metadata": {
        "id": "iTmYlusTKQOd"
      },
      "source": [
        "def geneticAlgorithmPlot(population, popSize, eliteSize, mutationRate, generations):\n",
        "    \"\"\"\n",
        "    This function should be very similar to the geneticAlgorithm function defined above, but it should also create a plot \n",
        "    the distance of the best route as a function of how many generations have passed. Please implement it below.\n",
        "    \"\"\"\n",
        "\n",
        "    pop = initialPopulation(popSize, population)\n",
        "    progress = []\n",
        "    progress.append(1 / rankRoutes(pop)[0][1])\n",
        "    \n",
        "    for i in range(0, generations):\n",
        "        pop = nextGeneration(pop, eliteSize, mutationRate)\n",
        "        progress.append(1 / rankRoutes(pop)[0][1])\n",
        "    \n",
        "    plt.plot(progress)\n",
        "    plt.ylabel('Distance')\n",
        "    plt.xlabel('Generation')\n",
        "    plt.show()"
      ],
      "execution_count": 21,
      "outputs": []
    },
    {
      "cell_type": "code",
      "metadata": {
        "colab": {
          "base_uri": "https://localhost:8080/",
          "height": 280
        },
        "id": "jQQTi6CZKRhW",
        "outputId": "402010a0-6d47-4455-e2c9-a947649929d8"
      },
      "source": [
        "geneticAlgorithmPlot(population=cityList, popSize=100, eliteSize=20, mutationRate=0.01, generations=500)"
      ],
      "execution_count": 22,
      "outputs": [
        {
          "output_type": "display_data",
          "data": {
            "image/png": "[encoded data removed]",
            "text/plain": [
              "<Figure size 432x288 with 1 Axes>"
            ]
          },
          "metadata": {
            "tags": [],
            "needs_background": "light"
          }
        }
      ]
    },
    {
      "cell_type": "code",
      "metadata": {
        "id": "IuH0mld5MCPM"
      },
      "source": [
        ""
      ],
      "execution_count": 22,
      "outputs": []
    }
  ]
}